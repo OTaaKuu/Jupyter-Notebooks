{
  "nbformat": 4,
  "nbformat_minor": 0,
  "metadata": {
    "colab": {
      "name": "CloneBots.ipynb",
      "provenance": [],
      "collapsed_sections": [],
      "include_colab_link": true
    },
    "kernelspec": {
      "name": "python3",
      "display_name": "Python 3"
    }
  },
  "cells": [
    {
      "cell_type": "markdown",
      "metadata": {
        "id": "view-in-github",
        "colab_type": "text"
      },
      "source": [
        "<a href=\"https://colab.research.google.com/github/Nenokkadine/Jupyter-Notebooks/blob/master/CloneBots.ipynb\" target=\"_parent\"><img src=\"https://colab.research.google.com/assets/colab-badge.svg\" alt=\"Open In Colab\"/></a>"
      ]
    },
    {
      "cell_type": "markdown",
      "metadata": {
        "id": "xfGKioI4T_4f"
      },
      "source": [
        "**GClone Bot**"
      ]
    },
    {
      "cell_type": "code",
      "metadata": {
        "id": "PIbBb_5WEu4L",
        "cellView": "form"
      },
      "source": [
        "\n",
        "#@markdown <h3><b>←</b>Fill all the Vars and Run the cell</h3>\n",
        "!sudo add-apt-repository ppa:deadsnakes/ppa -y > /dev/null 2>&1\n",
        "!sudo apt -qq update > /dev/null 2>&1\n",
        "!sudo apt install -y -qq unzip git locales python3-lxml aria2 curl pv jq nginx npm > /dev/null 2>&1\n",
        "!sudo apt install -y -qq python3.8 > /dev/null 2>&1\n",
        "!sudo apt-get install -y -qq python3.8-venv > /dev/null 2>&1\n",
        "!sudo update-alternatives --install /usr/bin/python3 python3 /usr/bin/python3.8 3 > /dev/null 2>&1\n",
        "!curl https://bootstrap.pypa.io/get-pip.py -o get-pip.py > /dev/null 2>&1\n",
        "!python3 get-pip.py --force-reinstall > /dev/null 2>&1\n",
        "!pip3 -q install -U pip > /dev/null 2>&1\n",
        "!wget -qq https://github.com/Nenokkadine/CDN/raw/master/GcloneColabBot.zip\n",
        "!unzip -qq GcloneColabBot.zip\n",
        "%cd GcloneColabBot\n",
        "!wget -qq https://github.com/Nenokkadine/CDN/raw/master/Error403/gclone.zip\n",
        "!unzip -qq gclone.zip \n",
        "!pip3 install --no-cache-dir -r requirements.txt > /dev/null 2>&1\n",
        "!chmod +x gclone\n",
        "%cd ./telegram_gcloner\n",
        "!rm -rf config.ini\n",
        "BOT_TOKEN=\"\" #@param {type:\"string\"}\n",
        "USER_ID=\"\" #@param {type:\"string\"}\n",
        "GRP_ID=\"\" #@param {type:\"string\"}\n",
        "!echo -e \"[General]\\npath_to_gclone = ./gclone\\n\\ntelegram_token = $BOT_TOKEN\\nuser_ids = $USER_ID\\ngroup_ids = $GRP_ID\\n\\ngclone_para_override = \"> config.ini\n",
        "!chmod 777 config.ini\n",
        "%cd ..\n",
        "from IPython.display import HTML, clear_output\n",
        "clear_output()\n",
        "print(\"Successfully Installed all the deps and Generated the Config, Now you may Start the Bot\")"
      ],
      "execution_count": null,
      "outputs": []
    },
    {
      "cell_type": "code",
      "metadata": {
        "id": "AeT_IWsKHxgt",
        "cellView": "form"
      },
      "source": [
        "#@markdown <h3><b>←</b>Run this cell to start the Bot</h3>\n",
        "PORT = 23745\n",
        "!npm install http-server -g > /dev/null 2>&1\n",
        "!http-server -p $PORT > /dev/null 2>&1 &\n",
        "!python3 telegram_gcloner/telegram_gcloner.py > /dev/null 2>&1"
      ],
      "execution_count": null,
      "outputs": []
    },
    {
      "cell_type": "markdown",
      "metadata": {
        "id": "GLsDQws5VJAa"
      },
      "source": [
        "**FClone Bot**"
      ]
    },
    {
      "cell_type": "code",
      "metadata": {
        "cellView": "form",
        "id": "v9XAI_rVVPWP"
      },
      "source": [
        "#@markdown <h3><b>←</b>Fill all the Vars and Run the cell</h3>\n",
        "!sudo add-apt-repository ppa:deadsnakes/ppa -y > /dev/null 2>&1\n",
        "!sudo apt -qq update > /dev/null 2>&1\n",
        "!sudo apt install -y -qq unzip git locales python3-lxml aria2 curl pv jq nginx npm > /dev/null 2>&1\n",
        "!sudo apt install -y -qq python3.8 > /dev/null 2>&1\n",
        "!sudo apt-get install -y -qq python3.8-venv > /dev/null 2>&1\n",
        "!sudo update-alternatives --install /usr/bin/python3 python3 /usr/bin/python3.8 3 > /dev/null 2>&1\n",
        "!curl https://bootstrap.pypa.io/get-pip.py -o get-pip.py > /dev/null 2>&1\n",
        "!python3 get-pip.py --force-reinstall > /dev/null 2>&1\n",
        "!pip3 -q install -U pip > /dev/null 2>&1\n",
        "!wget -qq https://github.com/Nenokkadine/CDN/raw/master/FcloneBotColab.zip > /dev/null 2>&1\n",
        "!unzip -qq FcloneBotColab.zip \n",
        "%cd FcloneBotColab\n",
        "!wget -qq https://github.com/Nenokkadine/CDN/raw/master/Error403/fclone.zip\n",
        "!unzip -qq fclone.zip \n",
        "!pip3 install --no-cache-dir -r requirements.txt > /dev/null 2>&1\n",
        "!chmod +x fclone\n",
        "%cd ./telegram_gcloner\n",
        "!rm -rf config.ini\n",
        "BOT_TOKEN=\"\" #@param {type:\"string\"}\n",
        "USER_ID=\"\" #@param {type:\"string\"}\n",
        "GRP_ID=\"\" #@param {type:\"string\"}\n",
        "!echo -e \"[General]\\npath_to_gclone = ./fclone\\n\\ntelegram_token = $BOT_TOKEN\\nuser_ids = $USER_ID\\ngroup_ids = $GRP_ID\\n\\ngclone_para_override = \"> config.ini\n",
        "!chmod 777 config.ini\n",
        "%cd ..\n",
        "from IPython.display import HTML, clear_output\n",
        "clear_output()\n",
        "print(\"Successfully Installed all the deps and Generated the Config, Now you may Start the Bot\")"
      ],
      "execution_count": null,
      "outputs": []
    },
    {
      "cell_type": "code",
      "metadata": {
        "cellView": "form",
        "id": "22NrLcAQVSG7"
      },
      "source": [
        "#@markdown <h3><b>←</b>Run this cell to start the Bot</h3>\n",
        "PORT = 23745\n",
        "!npm install http-server -g > /dev/null 2>&1\n",
        "!http-server -p $PORT > /dev/null 2>&1 &\n",
        "!python3 telegram_gcloner/telegram_gcloner.py > /dev/null 2>&1"
      ],
      "execution_count": null,
      "outputs": []
    }
  ]
}